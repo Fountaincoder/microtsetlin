{
 "cells": [
  {
   "cell_type": "code",
   "execution_count": 14,
   "metadata": {
    "scrolled": false,
    "slideshow": {
     "slide_type": "skip"
    }
   },
   "outputs": [
    {
     "data": {
      "text/html": [
       "\n",
       "    <div class=\"bk-root\">\n",
       "        <a href=\"https://bokeh.pydata.org\" target=\"_blank\" class=\"bk-logo bk-logo-small bk-logo-notebook\"></a>\n",
       "        <span id=\"6675\">Loading BokehJS ...</span>\n",
       "    </div>"
      ]
     },
     "metadata": {},
     "output_type": "display_data"
    },
    {
     "data": {
      "application/javascript": [
       "\n",
       "(function(root) {\n",
       "  function now() {\n",
       "    return new Date();\n",
       "  }\n",
       "\n",
       "  var force = true;\n",
       "\n",
       "  if (typeof (root._bokeh_onload_callbacks) === \"undefined\" || force === true) {\n",
       "    root._bokeh_onload_callbacks = [];\n",
       "    root._bokeh_is_loading = undefined;\n",
       "  }\n",
       "\n",
       "  var JS_MIME_TYPE = 'application/javascript';\n",
       "  var HTML_MIME_TYPE = 'text/html';\n",
       "  var EXEC_MIME_TYPE = 'application/vnd.bokehjs_exec.v0+json';\n",
       "  var CLASS_NAME = 'output_bokeh rendered_html';\n",
       "\n",
       "  /**\n",
       "   * Render data to the DOM node\n",
       "   */\n",
       "  function render(props, node) {\n",
       "    var script = document.createElement(\"script\");\n",
       "    node.appendChild(script);\n",
       "  }\n",
       "\n",
       "  /**\n",
       "   * Handle when an output is cleared or removed\n",
       "   */\n",
       "  function handleClearOutput(event, handle) {\n",
       "    var cell = handle.cell;\n",
       "\n",
       "    var id = cell.output_area._bokeh_element_id;\n",
       "    var server_id = cell.output_area._bokeh_server_id;\n",
       "    // Clean up Bokeh references\n",
       "    if (id != null && id in Bokeh.index) {\n",
       "      Bokeh.index[id].model.document.clear();\n",
       "      delete Bokeh.index[id];\n",
       "    }\n",
       "\n",
       "    if (server_id !== undefined) {\n",
       "      // Clean up Bokeh references\n",
       "      var cmd = \"from bokeh.io.state import curstate; print(curstate().uuid_to_server['\" + server_id + \"'].get_sessions()[0].document.roots[0]._id)\";\n",
       "      cell.notebook.kernel.execute(cmd, {\n",
       "        iopub: {\n",
       "          output: function(msg) {\n",
       "            var id = msg.content.text.trim();\n",
       "            if (id in Bokeh.index) {\n",
       "              Bokeh.index[id].model.document.clear();\n",
       "              delete Bokeh.index[id];\n",
       "            }\n",
       "          }\n",
       "        }\n",
       "      });\n",
       "      // Destroy server and session\n",
       "      var cmd = \"import bokeh.io.notebook as ion; ion.destroy_server('\" + server_id + \"')\";\n",
       "      cell.notebook.kernel.execute(cmd);\n",
       "    }\n",
       "  }\n",
       "\n",
       "  /**\n",
       "   * Handle when a new output is added\n",
       "   */\n",
       "  function handleAddOutput(event, handle) {\n",
       "    var output_area = handle.output_area;\n",
       "    var output = handle.output;\n",
       "\n",
       "    // limit handleAddOutput to display_data with EXEC_MIME_TYPE content only\n",
       "    if ((output.output_type != \"display_data\") || (!output.data.hasOwnProperty(EXEC_MIME_TYPE))) {\n",
       "      return\n",
       "    }\n",
       "\n",
       "    var toinsert = output_area.element.find(\".\" + CLASS_NAME.split(' ')[0]);\n",
       "\n",
       "    if (output.metadata[EXEC_MIME_TYPE][\"id\"] !== undefined) {\n",
       "      toinsert[toinsert.length - 1].firstChild.textContent = output.data[JS_MIME_TYPE];\n",
       "      // store reference to embed id on output_area\n",
       "      output_area._bokeh_element_id = output.metadata[EXEC_MIME_TYPE][\"id\"];\n",
       "    }\n",
       "    if (output.metadata[EXEC_MIME_TYPE][\"server_id\"] !== undefined) {\n",
       "      var bk_div = document.createElement(\"div\");\n",
       "      bk_div.innerHTML = output.data[HTML_MIME_TYPE];\n",
       "      var script_attrs = bk_div.children[0].attributes;\n",
       "      for (var i = 0; i < script_attrs.length; i++) {\n",
       "        toinsert[toinsert.length - 1].firstChild.setAttribute(script_attrs[i].name, script_attrs[i].value);\n",
       "      }\n",
       "      // store reference to server id on output_area\n",
       "      output_area._bokeh_server_id = output.metadata[EXEC_MIME_TYPE][\"server_id\"];\n",
       "    }\n",
       "  }\n",
       "\n",
       "  function register_renderer(events, OutputArea) {\n",
       "\n",
       "    function append_mime(data, metadata, element) {\n",
       "      // create a DOM node to render to\n",
       "      var toinsert = this.create_output_subarea(\n",
       "        metadata,\n",
       "        CLASS_NAME,\n",
       "        EXEC_MIME_TYPE\n",
       "      );\n",
       "      this.keyboard_manager.register_events(toinsert);\n",
       "      // Render to node\n",
       "      var props = {data: data, metadata: metadata[EXEC_MIME_TYPE]};\n",
       "      render(props, toinsert[toinsert.length - 1]);\n",
       "      element.append(toinsert);\n",
       "      return toinsert\n",
       "    }\n",
       "\n",
       "    /* Handle when an output is cleared or removed */\n",
       "    events.on('clear_output.CodeCell', handleClearOutput);\n",
       "    events.on('delete.Cell', handleClearOutput);\n",
       "\n",
       "    /* Handle when a new output is added */\n",
       "    events.on('output_added.OutputArea', handleAddOutput);\n",
       "\n",
       "    /**\n",
       "     * Register the mime type and append_mime function with output_area\n",
       "     */\n",
       "    OutputArea.prototype.register_mime_type(EXEC_MIME_TYPE, append_mime, {\n",
       "      /* Is output safe? */\n",
       "      safe: true,\n",
       "      /* Index of renderer in `output_area.display_order` */\n",
       "      index: 0\n",
       "    });\n",
       "  }\n",
       "\n",
       "  // register the mime type if in Jupyter Notebook environment and previously unregistered\n",
       "  if (root.Jupyter !== undefined) {\n",
       "    var events = require('base/js/events');\n",
       "    var OutputArea = require('notebook/js/outputarea').OutputArea;\n",
       "\n",
       "    if (OutputArea.prototype.mime_types().indexOf(EXEC_MIME_TYPE) == -1) {\n",
       "      register_renderer(events, OutputArea);\n",
       "    }\n",
       "  }\n",
       "\n",
       "  \n",
       "  if (typeof (root._bokeh_timeout) === \"undefined\" || force === true) {\n",
       "    root._bokeh_timeout = Date.now() + 5000;\n",
       "    root._bokeh_failed_load = false;\n",
       "  }\n",
       "\n",
       "  var NB_LOAD_WARNING = {'data': {'text/html':\n",
       "     \"<div style='background-color: #fdd'>\\n\"+\n",
       "     \"<p>\\n\"+\n",
       "     \"BokehJS does not appear to have successfully loaded. If loading BokehJS from CDN, this \\n\"+\n",
       "     \"may be due to a slow or bad network connection. Possible fixes:\\n\"+\n",
       "     \"</p>\\n\"+\n",
       "     \"<ul>\\n\"+\n",
       "     \"<li>re-rerun `output_notebook()` to attempt to load from CDN again, or</li>\\n\"+\n",
       "     \"<li>use INLINE resources instead, as so:</li>\\n\"+\n",
       "     \"</ul>\\n\"+\n",
       "     \"<code>\\n\"+\n",
       "     \"from bokeh.resources import INLINE\\n\"+\n",
       "     \"output_notebook(resources=INLINE)\\n\"+\n",
       "     \"</code>\\n\"+\n",
       "     \"</div>\"}};\n",
       "\n",
       "  function display_loaded() {\n",
       "    var el = document.getElementById(\"6675\");\n",
       "    if (el != null) {\n",
       "      el.textContent = \"BokehJS is loading...\";\n",
       "    }\n",
       "    if (root.Bokeh !== undefined) {\n",
       "      if (el != null) {\n",
       "        el.textContent = \"BokehJS \" + root.Bokeh.version + \" successfully loaded.\";\n",
       "      }\n",
       "    } else if (Date.now() < root._bokeh_timeout) {\n",
       "      setTimeout(display_loaded, 100)\n",
       "    }\n",
       "  }\n",
       "\n",
       "\n",
       "  function run_callbacks() {\n",
       "    try {\n",
       "      root._bokeh_onload_callbacks.forEach(function(callback) { callback() });\n",
       "    }\n",
       "    finally {\n",
       "      delete root._bokeh_onload_callbacks\n",
       "    }\n",
       "    console.info(\"Bokeh: all callbacks have finished\");\n",
       "  }\n",
       "\n",
       "  function load_libs(js_urls, callback) {\n",
       "    root._bokeh_onload_callbacks.push(callback);\n",
       "    if (root._bokeh_is_loading > 0) {\n",
       "      console.log(\"Bokeh: BokehJS is being loaded, scheduling callback at\", now());\n",
       "      return null;\n",
       "    }\n",
       "    if (js_urls == null || js_urls.length === 0) {\n",
       "      run_callbacks();\n",
       "      return null;\n",
       "    }\n",
       "    console.log(\"Bokeh: BokehJS not loaded, scheduling load and callback at\", now());\n",
       "    root._bokeh_is_loading = js_urls.length;\n",
       "    for (var i = 0; i < js_urls.length; i++) {\n",
       "      var url = js_urls[i];\n",
       "      var s = document.createElement('script');\n",
       "      s.src = url;\n",
       "      s.async = false;\n",
       "      s.onreadystatechange = s.onload = function() {\n",
       "        root._bokeh_is_loading--;\n",
       "        if (root._bokeh_is_loading === 0) {\n",
       "          console.log(\"Bokeh: all BokehJS libraries loaded\");\n",
       "          run_callbacks()\n",
       "        }\n",
       "      };\n",
       "      s.onerror = function() {\n",
       "        console.warn(\"failed to load library \" + url);\n",
       "      };\n",
       "      console.log(\"Bokeh: injecting script tag for BokehJS library: \", url);\n",
       "      document.getElementsByTagName(\"head\")[0].appendChild(s);\n",
       "    }\n",
       "  };var element = document.getElementById(\"6675\");\n",
       "  if (element == null) {\n",
       "    console.log(\"Bokeh: ERROR: autoload.js configured with elementid '6675' but no matching script tag was found. \")\n",
       "    return false;\n",
       "  }\n",
       "\n",
       "  var js_urls = [\"https://cdn.pydata.org/bokeh/release/bokeh-1.0.4.min.js\", \"https://cdn.pydata.org/bokeh/release/bokeh-widgets-1.0.4.min.js\", \"https://cdn.pydata.org/bokeh/release/bokeh-tables-1.0.4.min.js\", \"https://cdn.pydata.org/bokeh/release/bokeh-gl-1.0.4.min.js\"];\n",
       "\n",
       "  var inline_js = [\n",
       "    function(Bokeh) {\n",
       "      Bokeh.set_log_level(\"info\");\n",
       "    },\n",
       "    \n",
       "    function(Bokeh) {\n",
       "      \n",
       "    },\n",
       "    function(Bokeh) {\n",
       "      console.log(\"Bokeh: injecting CSS: https://cdn.pydata.org/bokeh/release/bokeh-1.0.4.min.css\");\n",
       "      Bokeh.embed.inject_css(\"https://cdn.pydata.org/bokeh/release/bokeh-1.0.4.min.css\");\n",
       "      console.log(\"Bokeh: injecting CSS: https://cdn.pydata.org/bokeh/release/bokeh-widgets-1.0.4.min.css\");\n",
       "      Bokeh.embed.inject_css(\"https://cdn.pydata.org/bokeh/release/bokeh-widgets-1.0.4.min.css\");\n",
       "      console.log(\"Bokeh: injecting CSS: https://cdn.pydata.org/bokeh/release/bokeh-tables-1.0.4.min.css\");\n",
       "      Bokeh.embed.inject_css(\"https://cdn.pydata.org/bokeh/release/bokeh-tables-1.0.4.min.css\");\n",
       "    }\n",
       "  ];\n",
       "\n",
       "  function run_inline_js() {\n",
       "    \n",
       "    if ((root.Bokeh !== undefined) || (force === true)) {\n",
       "      for (var i = 0; i < inline_js.length; i++) {\n",
       "        inline_js[i].call(root, root.Bokeh);\n",
       "      }if (force === true) {\n",
       "        display_loaded();\n",
       "      }} else if (Date.now() < root._bokeh_timeout) {\n",
       "      setTimeout(run_inline_js, 100);\n",
       "    } else if (!root._bokeh_failed_load) {\n",
       "      console.log(\"Bokeh: BokehJS failed to load within specified timeout.\");\n",
       "      root._bokeh_failed_load = true;\n",
       "    } else if (force !== true) {\n",
       "      var cell = $(document.getElementById(\"6675\")).parents('.cell').data().cell;\n",
       "      cell.output_area.append_execute_result(NB_LOAD_WARNING)\n",
       "    }\n",
       "\n",
       "  }\n",
       "\n",
       "  if (root._bokeh_is_loading === 0) {\n",
       "    console.log(\"Bokeh: BokehJS loaded, going straight to plotting\");\n",
       "    run_inline_js();\n",
       "  } else {\n",
       "    load_libs(js_urls, function() {\n",
       "      console.log(\"Bokeh: BokehJS plotting callback run at\", now());\n",
       "      run_inline_js();\n",
       "    });\n",
       "  }\n",
       "}(window));"
      ],
      "application/vnd.bokehjs_load.v0+json": "\n(function(root) {\n  function now() {\n    return new Date();\n  }\n\n  var force = true;\n\n  if (typeof (root._bokeh_onload_callbacks) === \"undefined\" || force === true) {\n    root._bokeh_onload_callbacks = [];\n    root._bokeh_is_loading = undefined;\n  }\n\n  \n\n  \n  if (typeof (root._bokeh_timeout) === \"undefined\" || force === true) {\n    root._bokeh_timeout = Date.now() + 5000;\n    root._bokeh_failed_load = false;\n  }\n\n  var NB_LOAD_WARNING = {'data': {'text/html':\n     \"<div style='background-color: #fdd'>\\n\"+\n     \"<p>\\n\"+\n     \"BokehJS does not appear to have successfully loaded. If loading BokehJS from CDN, this \\n\"+\n     \"may be due to a slow or bad network connection. Possible fixes:\\n\"+\n     \"</p>\\n\"+\n     \"<ul>\\n\"+\n     \"<li>re-rerun `output_notebook()` to attempt to load from CDN again, or</li>\\n\"+\n     \"<li>use INLINE resources instead, as so:</li>\\n\"+\n     \"</ul>\\n\"+\n     \"<code>\\n\"+\n     \"from bokeh.resources import INLINE\\n\"+\n     \"output_notebook(resources=INLINE)\\n\"+\n     \"</code>\\n\"+\n     \"</div>\"}};\n\n  function display_loaded() {\n    var el = document.getElementById(\"6675\");\n    if (el != null) {\n      el.textContent = \"BokehJS is loading...\";\n    }\n    if (root.Bokeh !== undefined) {\n      if (el != null) {\n        el.textContent = \"BokehJS \" + root.Bokeh.version + \" successfully loaded.\";\n      }\n    } else if (Date.now() < root._bokeh_timeout) {\n      setTimeout(display_loaded, 100)\n    }\n  }\n\n\n  function run_callbacks() {\n    try {\n      root._bokeh_onload_callbacks.forEach(function(callback) { callback() });\n    }\n    finally {\n      delete root._bokeh_onload_callbacks\n    }\n    console.info(\"Bokeh: all callbacks have finished\");\n  }\n\n  function load_libs(js_urls, callback) {\n    root._bokeh_onload_callbacks.push(callback);\n    if (root._bokeh_is_loading > 0) {\n      console.log(\"Bokeh: BokehJS is being loaded, scheduling callback at\", now());\n      return null;\n    }\n    if (js_urls == null || js_urls.length === 0) {\n      run_callbacks();\n      return null;\n    }\n    console.log(\"Bokeh: BokehJS not loaded, scheduling load and callback at\", now());\n    root._bokeh_is_loading = js_urls.length;\n    for (var i = 0; i < js_urls.length; i++) {\n      var url = js_urls[i];\n      var s = document.createElement('script');\n      s.src = url;\n      s.async = false;\n      s.onreadystatechange = s.onload = function() {\n        root._bokeh_is_loading--;\n        if (root._bokeh_is_loading === 0) {\n          console.log(\"Bokeh: all BokehJS libraries loaded\");\n          run_callbacks()\n        }\n      };\n      s.onerror = function() {\n        console.warn(\"failed to load library \" + url);\n      };\n      console.log(\"Bokeh: injecting script tag for BokehJS library: \", url);\n      document.getElementsByTagName(\"head\")[0].appendChild(s);\n    }\n  };var element = document.getElementById(\"6675\");\n  if (element == null) {\n    console.log(\"Bokeh: ERROR: autoload.js configured with elementid '6675' but no matching script tag was found. \")\n    return false;\n  }\n\n  var js_urls = [\"https://cdn.pydata.org/bokeh/release/bokeh-1.0.4.min.js\", \"https://cdn.pydata.org/bokeh/release/bokeh-widgets-1.0.4.min.js\", \"https://cdn.pydata.org/bokeh/release/bokeh-tables-1.0.4.min.js\", \"https://cdn.pydata.org/bokeh/release/bokeh-gl-1.0.4.min.js\"];\n\n  var inline_js = [\n    function(Bokeh) {\n      Bokeh.set_log_level(\"info\");\n    },\n    \n    function(Bokeh) {\n      \n    },\n    function(Bokeh) {\n      console.log(\"Bokeh: injecting CSS: https://cdn.pydata.org/bokeh/release/bokeh-1.0.4.min.css\");\n      Bokeh.embed.inject_css(\"https://cdn.pydata.org/bokeh/release/bokeh-1.0.4.min.css\");\n      console.log(\"Bokeh: injecting CSS: https://cdn.pydata.org/bokeh/release/bokeh-widgets-1.0.4.min.css\");\n      Bokeh.embed.inject_css(\"https://cdn.pydata.org/bokeh/release/bokeh-widgets-1.0.4.min.css\");\n      console.log(\"Bokeh: injecting CSS: https://cdn.pydata.org/bokeh/release/bokeh-tables-1.0.4.min.css\");\n      Bokeh.embed.inject_css(\"https://cdn.pydata.org/bokeh/release/bokeh-tables-1.0.4.min.css\");\n    }\n  ];\n\n  function run_inline_js() {\n    \n    if ((root.Bokeh !== undefined) || (force === true)) {\n      for (var i = 0; i < inline_js.length; i++) {\n        inline_js[i].call(root, root.Bokeh);\n      }if (force === true) {\n        display_loaded();\n      }} else if (Date.now() < root._bokeh_timeout) {\n      setTimeout(run_inline_js, 100);\n    } else if (!root._bokeh_failed_load) {\n      console.log(\"Bokeh: BokehJS failed to load within specified timeout.\");\n      root._bokeh_failed_load = true;\n    } else if (force !== true) {\n      var cell = $(document.getElementById(\"6675\")).parents('.cell').data().cell;\n      cell.output_area.append_execute_result(NB_LOAD_WARNING)\n    }\n\n  }\n\n  if (root._bokeh_is_loading === 0) {\n    console.log(\"Bokeh: BokehJS loaded, going straight to plotting\");\n    run_inline_js();\n  } else {\n    load_libs(js_urls, function() {\n      console.log(\"Bokeh: BokehJS plotting callback run at\", now());\n      run_inline_js();\n    });\n  }\n}(window));"
     },
     "metadata": {},
     "output_type": "display_data"
    }
   ],
   "source": [
    "#!pip install bokeh on a standard python install\n",
    "from bokeh.layouts import row,column\n",
    "from bokeh.plotting import figure, show, output_file\n",
    "from bokeh.io import output_notebook,push_notebook\n",
    "from microtsetlin import *\n",
    "import time\n",
    "output_notebook()"
   ]
  },
  {
   "cell_type": "markdown",
   "metadata": {
    "slideshow": {
     "slide_type": "skip"
    }
   },
   "source": [
    "## Microtsetlin\n",
    "\n",
    "This notebook contains WIP visualisation of tsetlin states using hinton diagrams - it's not completely self-explanatory\n",
    "as there's no iteration variables to explain where we are in the trianing cycle\n",
    "\n",
    "TODO:\n",
    "1. output iteration\n",
    "2. output input and desired out put"
   ]
  },
  {
   "cell_type": "code",
   "execution_count": 16,
   "metadata": {
    "slideshow": {
     "slide_type": "skip"
    }
   },
   "outputs": [],
   "source": [
    "def hinton(f, matrix, thres,max_weight=105):\n",
    "    if not max_weight:\n",
    "        max_weight = 2 ** np.ceil(np.log(np.abs(matrix).max()) / np.log(2))\n",
    "    out = [(y,x,w / max_weight, \"black\" if w > thres else \"white\") for (x, y), w in np.ndenumerate(matrix)]\n",
    "    x,y,s,c = zip(*out)\n",
    "    h = f.rect(x, y, fill_color=list(c),line_color=\"black\", width=s, height=s)\n",
    "    return f,h \n",
    "\n",
    "def uhinton(target, h,matrix, thres, max_weight=105):\n",
    "    if not max_weight:\n",
    "        max_weight = 2 ** np.ceil(np.log(np.abs(matrix).max()) / np.log(2))\n",
    "    out = [(y,x,w/float(max_weight), \"black\" if w > thres else \"white\") for (x, y), w in np.ndenumerate(matrix)]\n",
    "    x,y,s,c = zip(*out)\n",
    "    h.data_source.data['x']= x\n",
    "    h.data_source.data['y']= y\n",
    "    h.data_source.data['width']= s\n",
    "    h.data_source.data['height']= s\n",
    "    h.data_source.data['fill_color']= list(c)\n",
    "    push_notebook(handle=target)"
   ]
  },
  {
   "cell_type": "code",
   "execution_count": 20,
   "metadata": {
    "slideshow": {
     "slide_type": "skip"
    }
   },
   "outputs": [],
   "source": [
    "a = ['E','I']\n",
    "f = figure(title=\"T inc\", toolbar_location=None,x_range=(-1.5,2.5),plot_width=200, plot_height=500,x_axis_location=\"above\")\n",
    "f,h = hinton(f,tsetlin[:,:,0],MIDSTATE)\n",
    "#f.xaxis.visible = False \n",
    "f.yaxis.visible = False\n",
    "f.xaxis.ticker = [0, 1]\n",
    "f.xaxis.major_label_overrides = {0: 'X1', 1: 'X2'}\n",
    "f2 = figure(title=\"T inc neg\", toolbar_location=None,x_range=(-1.5,2.5),plot_width=200, plot_height=500,x_axis_location=\"above\")\n",
    "f2,h2 = hinton(f2,tsetlin[:,:,1],MIDSTATE)\n",
    "#f2.xaxis.visible = False\n",
    "f2.xaxis.ticker = [0, 1]\n",
    "f2.xaxis.major_label_overrides = {0: '¬X1', 1: '¬X2'}\n",
    "f2.yaxis.visible = False\n",
    "f3 = figure(title=\"Out\", toolbar_location=None,x_range=(-1.5,2.5),plot_width=200, plot_height=500,x_axis_location=\"above\")\n",
    "f3,h3 = hinton(f3,np.array(num_clauses*[0]).reshape(1, num_clauses),0.5)\n",
    "f3.xaxis.ticker = [0]\n",
    "f3.xaxis.major_label_overrides = {0: 'Clause Out'}\n",
    "f3.yaxis.visible = False\n",
    "f4 = figure(title=\"In\", toolbar_location=None,x_range=(-1.5,2.5),plot_width=200, plot_height=500,x_axis_location=\"above\")\n",
    "f4,h4 = hinton(f4,np.array(20*[0]).reshape(10, 2),0.5)\n",
    "f4.xaxis.ticker = [0,1]\n",
    "f4.xaxis.major_label_overrides = {0: 'X1', 1: 'X2'}\n",
    "f4.yaxis.visible = False"
   ]
  },
  {
   "cell_type": "markdown",
   "metadata": {
    "slideshow": {
     "slide_type": "slide"
    }
   },
   "source": [
    "# Tsetlin Machines: The Gory Details!\n",
    "\n",
    "The general online learning algorithm:"
   ]
  },
  {
   "cell_type": "markdown",
   "metadata": {
    "slideshow": {
     "slide_type": "slide"
    }
   },
   "source": [
    "![Tsetlin vs MLP](MLPTSET.png)"
   ]
  },
  {
   "cell_type": "code",
   "execution_count": 22,
   "metadata": {
    "scrolled": false,
    "slideshow": {
     "slide_type": "slide"
    }
   },
   "outputs": [
    {
     "data": {
      "text/html": [
       "\n",
       "\n",
       "\n",
       "\n",
       "\n",
       "\n",
       "  <div class=\"bk-root\" id=\"c9d97447-aaae-46f0-b26f-542173780ba9\" data-root-id=\"8004\"></div>\n"
      ]
     },
     "metadata": {},
     "output_type": "display_data"
    },
    {
     "data": {
      "application/javascript": [
       "(function(root) {\n",
       "  function embed_document(root) {\n",
       "    \n",
       "  var docs_json = {\"db125403-e93a-4f40-b9b1-5881d04be406\":{\"roots\":{\"references\":[{\"attributes\":{\"children\":[{\"id\":\"7548\",\"subtype\":\"Figure\",\"type\":\"Plot\"},{\"id\":\"7419\",\"subtype\":\"Figure\",\"type\":\"Plot\"},{\"id\":\"7462\",\"subtype\":\"Figure\",\"type\":\"Plot\"},{\"id\":\"7505\",\"subtype\":\"Figure\",\"type\":\"Plot\"}]},\"id\":\"8004\",\"type\":\"Row\"},{\"attributes\":{},\"id\":\"7444\",\"type\":\"HelpTool\"},{\"attributes\":{},\"id\":\"7511\",\"type\":\"LinearScale\"},{\"attributes\":{\"active_drag\":\"auto\",\"active_inspect\":\"auto\",\"active_multi\":null,\"active_scroll\":\"auto\",\"active_tap\":\"auto\",\"tools\":[{\"id\":\"7439\",\"type\":\"PanTool\"},{\"id\":\"7440\",\"type\":\"WheelZoomTool\"},{\"id\":\"7441\",\"type\":\"BoxZoomTool\"},{\"id\":\"7442\",\"type\":\"SaveTool\"},{\"id\":\"7443\",\"type\":\"ResetTool\"},{\"id\":\"7444\",\"type\":\"HelpTool\"}]},\"id\":\"7445\",\"type\":\"Toolbar\"},{\"attributes\":{},\"id\":\"7513\",\"type\":\"LinearScale\"},{\"attributes\":{\"bottom_units\":\"screen\",\"fill_alpha\":{\"value\":0.5},\"fill_color\":{\"value\":\"lightgrey\"},\"left_units\":\"screen\",\"level\":\"overlay\",\"line_alpha\":{\"value\":1.0},\"line_color\":{\"value\":\"black\"},\"line_dash\":[4,4],\"line_width\":{\"value\":2},\"plot\":null,\"render_mode\":\"css\",\"right_units\":\"screen\",\"top_units\":\"screen\"},\"id\":\"7447\",\"type\":\"BoxAnnotation\"},{\"attributes\":{\"formatter\":{\"id\":\"7744\",\"type\":\"BasicTickFormatter\"},\"major_label_overrides\":{\"0\":\"Clause Out\"},\"plot\":{\"id\":\"7505\",\"subtype\":\"Figure\",\"type\":\"Plot\"},\"ticker\":{\"id\":\"7545\",\"type\":\"FixedTicker\"}},\"id\":\"7515\",\"type\":\"LinearAxis\"},{\"attributes\":{\"data_source\":{\"id\":\"7454\",\"type\":\"ColumnDataSource\"},\"glyph\":{\"id\":\"7455\",\"type\":\"Rect\"},\"hover_glyph\":null,\"muted_glyph\":null,\"nonselection_glyph\":{\"id\":\"7456\",\"type\":\"Rect\"},\"selection_glyph\":null,\"view\":{\"id\":\"7458\",\"type\":\"CDSView\"}},\"id\":\"7457\",\"type\":\"GlyphRenderer\"},{\"attributes\":{},\"id\":\"7516\",\"type\":\"BasicTicker\"},{\"attributes\":{\"source\":{\"id\":\"7454\",\"type\":\"ColumnDataSource\"}},\"id\":\"7458\",\"type\":\"CDSView\"},{\"attributes\":{\"plot\":{\"id\":\"7505\",\"subtype\":\"Figure\",\"type\":\"Plot\"},\"ticker\":{\"id\":\"7516\",\"type\":\"BasicTicker\"}},\"id\":\"7519\",\"type\":\"Grid\"},{\"attributes\":{\"fill_alpha\":{\"value\":0.1},\"fill_color\":{\"value\":\"#1f77b4\"},\"height\":{\"field\":\"height\",\"units\":\"data\"},\"line_alpha\":{\"value\":0.1},\"line_color\":{\"value\":\"#1f77b4\"},\"width\":{\"field\":\"width\",\"units\":\"data\"},\"x\":{\"field\":\"x\"},\"y\":{\"field\":\"y\"}},\"id\":\"7499\",\"type\":\"Rect\"},{\"attributes\":{\"plot\":null,\"text\":\"T inc neg\"},\"id\":\"7461\",\"type\":\"Title\"},{\"attributes\":{\"formatter\":{\"id\":\"7746\",\"type\":\"BasicTickFormatter\"},\"plot\":{\"id\":\"7505\",\"subtype\":\"Figure\",\"type\":\"Plot\"},\"ticker\":{\"id\":\"7521\",\"type\":\"BasicTicker\"},\"visible\":false},\"id\":\"7520\",\"type\":\"LinearAxis\"},{\"attributes\":{\"above\":[{\"id\":\"7472\",\"type\":\"LinearAxis\"}],\"left\":[{\"id\":\"7477\",\"type\":\"LinearAxis\"}],\"plot_height\":500,\"plot_width\":200,\"renderers\":[{\"id\":\"7472\",\"type\":\"LinearAxis\"},{\"id\":\"7476\",\"type\":\"Grid\"},{\"id\":\"7477\",\"type\":\"LinearAxis\"},{\"id\":\"7481\",\"type\":\"Grid\"},{\"id\":\"7490\",\"type\":\"BoxAnnotation\"},{\"id\":\"7500\",\"type\":\"GlyphRenderer\"}],\"title\":{\"id\":\"7461\",\"type\":\"Title\"},\"toolbar\":{\"id\":\"7488\",\"type\":\"Toolbar\"},\"toolbar_location\":null,\"x_range\":{\"id\":\"7464\",\"type\":\"Range1d\"},\"x_scale\":{\"id\":\"7468\",\"type\":\"LinearScale\"},\"y_range\":{\"id\":\"7466\",\"type\":\"DataRange1d\"},\"y_scale\":{\"id\":\"7470\",\"type\":\"LinearScale\"}},\"id\":\"7462\",\"subtype\":\"Figure\",\"type\":\"Plot\"},{\"attributes\":{},\"id\":\"7521\",\"type\":\"BasicTicker\"},{\"attributes\":{\"ticks\":[0,1]},\"id\":\"7459\",\"type\":\"FixedTicker\"},{\"attributes\":{\"dimension\":1,\"plot\":{\"id\":\"7505\",\"subtype\":\"Figure\",\"type\":\"Plot\"},\"ticker\":{\"id\":\"7521\",\"type\":\"BasicTicker\"}},\"id\":\"7524\",\"type\":\"Grid\"},{\"attributes\":{\"callback\":null,\"end\":2.5,\"start\":-1.5},\"id\":\"7464\",\"type\":\"Range1d\"},{\"attributes\":{\"fill_alpha\":{\"value\":0.1},\"fill_color\":{\"value\":\"#1f77b4\"},\"height\":{\"field\":\"height\",\"units\":\"data\"},\"line_alpha\":{\"value\":0.1},\"line_color\":{\"value\":\"#1f77b4\"},\"width\":{\"field\":\"width\",\"units\":\"data\"},\"x\":{\"field\":\"x\"},\"y\":{\"field\":\"y\"}},\"id\":\"7542\",\"type\":\"Rect\"},{\"attributes\":{\"callback\":null},\"id\":\"7466\",\"type\":\"DataRange1d\"},{\"attributes\":{\"fill_color\":{\"field\":\"fill_color\"},\"height\":{\"field\":\"height\",\"units\":\"data\"},\"width\":{\"field\":\"width\",\"units\":\"data\"},\"x\":{\"field\":\"x\"},\"y\":{\"field\":\"y\"}},\"id\":\"7541\",\"type\":\"Rect\"},{\"attributes\":{},\"id\":\"7468\",\"type\":\"LinearScale\"},{\"attributes\":{\"active_drag\":\"auto\",\"active_inspect\":\"auto\",\"active_multi\":null,\"active_scroll\":\"auto\",\"active_tap\":\"auto\",\"tools\":[{\"id\":\"7525\",\"type\":\"PanTool\"},{\"id\":\"7526\",\"type\":\"WheelZoomTool\"},{\"id\":\"7527\",\"type\":\"BoxZoomTool\"},{\"id\":\"7528\",\"type\":\"SaveTool\"},{\"id\":\"7529\",\"type\":\"ResetTool\"},{\"id\":\"7530\",\"type\":\"HelpTool\"}]},\"id\":\"7531\",\"type\":\"Toolbar\"},{\"attributes\":{},\"id\":\"7525\",\"type\":\"PanTool\"},{\"attributes\":{},\"id\":\"7470\",\"type\":\"LinearScale\"},{\"attributes\":{},\"id\":\"7526\",\"type\":\"WheelZoomTool\"},{\"attributes\":{\"formatter\":{\"id\":\"7741\",\"type\":\"BasicTickFormatter\"},\"major_label_overrides\":{\"0\":\"\\u00acX1\",\"1\":\"\\u00acX2\"},\"plot\":{\"id\":\"7462\",\"subtype\":\"Figure\",\"type\":\"Plot\"},\"ticker\":{\"id\":\"7502\",\"type\":\"FixedTicker\"}},\"id\":\"7472\",\"type\":\"LinearAxis\"},{\"attributes\":{\"overlay\":{\"id\":\"7533\",\"type\":\"BoxAnnotation\"}},\"id\":\"7527\",\"type\":\"BoxZoomTool\"},{\"attributes\":{},\"id\":\"7756\",\"type\":\"Selection\"},{\"attributes\":{},\"id\":\"7473\",\"type\":\"BasicTicker\"},{\"attributes\":{},\"id\":\"7754\",\"type\":\"UnionRenderers\"},{\"attributes\":{\"above\":[{\"id\":\"7429\",\"type\":\"LinearAxis\"}],\"left\":[{\"id\":\"7434\",\"type\":\"LinearAxis\"}],\"plot_height\":500,\"plot_width\":200,\"renderers\":[{\"id\":\"7429\",\"type\":\"LinearAxis\"},{\"id\":\"7433\",\"type\":\"Grid\"},{\"id\":\"7434\",\"type\":\"LinearAxis\"},{\"id\":\"7438\",\"type\":\"Grid\"},{\"id\":\"7447\",\"type\":\"BoxAnnotation\"},{\"id\":\"7457\",\"type\":\"GlyphRenderer\"}],\"title\":{\"id\":\"7418\",\"type\":\"Title\"},\"toolbar\":{\"id\":\"7445\",\"type\":\"Toolbar\"},\"toolbar_location\":null,\"x_range\":{\"id\":\"7421\",\"type\":\"Range1d\"},\"x_scale\":{\"id\":\"7425\",\"type\":\"LinearScale\"},\"y_range\":{\"id\":\"7423\",\"type\":\"DataRange1d\"},\"y_scale\":{\"id\":\"7427\",\"type\":\"LinearScale\"}},\"id\":\"7419\",\"subtype\":\"Figure\",\"type\":\"Plot\"},{\"attributes\":{},\"id\":\"7528\",\"type\":\"SaveTool\"},{\"attributes\":{\"plot\":{\"id\":\"7462\",\"subtype\":\"Figure\",\"type\":\"Plot\"},\"ticker\":{\"id\":\"7473\",\"type\":\"BasicTicker\"}},\"id\":\"7476\",\"type\":\"Grid\"},{\"attributes\":{},\"id\":\"7529\",\"type\":\"ResetTool\"},{\"attributes\":{\"formatter\":{\"id\":\"7743\",\"type\":\"BasicTickFormatter\"},\"plot\":{\"id\":\"7462\",\"subtype\":\"Figure\",\"type\":\"Plot\"},\"ticker\":{\"id\":\"7478\",\"type\":\"BasicTicker\"},\"visible\":false},\"id\":\"7477\",\"type\":\"LinearAxis\"},{\"attributes\":{\"callback\":null,\"data\":{\"fill_color\":[\"black\",\"black\",\"black\",\"black\",\"white\",\"black\",\"white\",\"white\",\"white\",\"white\",\"black\",\"black\",\"white\",\"white\",\"black\",\"black\",\"white\",\"white\",\"white\",\"white\"],\"height\":[0.4857142857142857,0.4857142857142857,0.4857142857142857,0.4857142857142857,0.45714285714285713,0.4857142857142857,0.47619047619047616,0.44761904761904764,0.47619047619047616,0.4666666666666667,0.49523809523809526,0.49523809523809526,0.47619047619047616,0.47619047619047616,0.4857142857142857,0.4857142857142857,0.47619047619047616,0.47619047619047616,0.47619047619047616,0.47619047619047616],\"width\":[0.4857142857142857,0.4857142857142857,0.4857142857142857,0.4857142857142857,0.45714285714285713,0.4857142857142857,0.47619047619047616,0.44761904761904764,0.47619047619047616,0.4666666666666667,0.49523809523809526,0.49523809523809526,0.47619047619047616,0.47619047619047616,0.4857142857142857,0.4857142857142857,0.47619047619047616,0.47619047619047616,0.47619047619047616,0.47619047619047616],\"x\":[0,1,0,1,0,1,0,1,0,1,0,1,0,1,0,1,0,1,0,1],\"y\":[0,0,1,1,2,2,3,3,4,4,5,5,6,6,7,7,8,8,9,9]},\"selected\":{\"id\":\"7750\",\"type\":\"Selection\"},\"selection_policy\":{\"id\":\"7751\",\"type\":\"UnionRenderers\"}},\"id\":\"7454\",\"type\":\"ColumnDataSource\"},{\"attributes\":{},\"id\":\"7530\",\"type\":\"HelpTool\"},{\"attributes\":{\"fill_alpha\":{\"value\":0.1},\"fill_color\":{\"value\":\"#1f77b4\"},\"height\":{\"field\":\"height\",\"units\":\"data\"},\"line_alpha\":{\"value\":0.1},\"line_color\":{\"value\":\"#1f77b4\"},\"width\":{\"field\":\"width\",\"units\":\"data\"},\"x\":{\"field\":\"x\"},\"y\":{\"field\":\"y\"}},\"id\":\"7456\",\"type\":\"Rect\"},{\"attributes\":{},\"id\":\"7478\",\"type\":\"BasicTicker\"},{\"attributes\":{\"plot\":null,\"text\":\"T inc\"},\"id\":\"7418\",\"type\":\"Title\"},{\"attributes\":{\"dimension\":1,\"plot\":{\"id\":\"7462\",\"subtype\":\"Figure\",\"type\":\"Plot\"},\"ticker\":{\"id\":\"7478\",\"type\":\"BasicTicker\"}},\"id\":\"7481\",\"type\":\"Grid\"},{\"attributes\":{\"bottom_units\":\"screen\",\"fill_alpha\":{\"value\":0.5},\"fill_color\":{\"value\":\"lightgrey\"},\"left_units\":\"screen\",\"level\":\"overlay\",\"line_alpha\":{\"value\":1.0},\"line_color\":{\"value\":\"black\"},\"line_dash\":[4,4],\"line_width\":{\"value\":2},\"plot\":null,\"render_mode\":\"css\",\"right_units\":\"screen\",\"top_units\":\"screen\"},\"id\":\"7533\",\"type\":\"BoxAnnotation\"},{\"attributes\":{\"callback\":null,\"end\":2.5,\"start\":-1.5},\"id\":\"7421\",\"type\":\"Range1d\"},{\"attributes\":{\"data_source\":{\"id\":\"7540\",\"type\":\"ColumnDataSource\"},\"glyph\":{\"id\":\"7541\",\"type\":\"Rect\"},\"hover_glyph\":null,\"muted_glyph\":null,\"nonselection_glyph\":{\"id\":\"7542\",\"type\":\"Rect\"},\"selection_glyph\":null,\"view\":{\"id\":\"7544\",\"type\":\"CDSView\"}},\"id\":\"7543\",\"type\":\"GlyphRenderer\"},{\"attributes\":{\"fill_color\":{\"field\":\"fill_color\"},\"height\":{\"field\":\"height\",\"units\":\"data\"},\"width\":{\"field\":\"width\",\"units\":\"data\"},\"x\":{\"field\":\"x\"},\"y\":{\"field\":\"y\"}},\"id\":\"7498\",\"type\":\"Rect\"},{\"attributes\":{\"callback\":null},\"id\":\"7423\",\"type\":\"DataRange1d\"},{\"attributes\":{\"callback\":null,\"data\":{\"fill_color\":[\"black\",\"white\",\"black\",\"white\",\"black\",\"white\",\"black\",\"white\",\"black\",\"white\",\"black\",\"white\",\"black\",\"white\",\"black\",\"white\",\"black\",\"white\",\"black\",\"white\"],\"height\":[0.47619047619047616,0.0,0.47619047619047616,0.0,0.47619047619047616,0.0,0.47619047619047616,0.0,0.47619047619047616,0.0,0.47619047619047616,0.0,0.47619047619047616,0.0,0.47619047619047616,0.0,0.47619047619047616,0.0,0.47619047619047616,0.0],\"width\":[0.47619047619047616,0.0,0.47619047619047616,0.0,0.47619047619047616,0.0,0.47619047619047616,0.0,0.47619047619047616,0.0,0.47619047619047616,0.0,0.47619047619047616,0.0,0.47619047619047616,0.0,0.47619047619047616,0.0,0.47619047619047616,0.0],\"x\":[0,1,0,1,0,1,0,1,0,1,0,1,0,1,0,1,0,1,0,1],\"y\":[0,0,1,1,2,2,3,3,4,4,5,5,6,6,7,7,8,8,9,9]},\"selected\":{\"id\":\"7747\",\"type\":\"Selection\"},\"selection_policy\":{\"id\":\"7748\",\"type\":\"UnionRenderers\"}},\"id\":\"7583\",\"type\":\"ColumnDataSource\"},{\"attributes\":{\"source\":{\"id\":\"7540\",\"type\":\"ColumnDataSource\"}},\"id\":\"7544\",\"type\":\"CDSView\"},{\"attributes\":{},\"id\":\"7425\",\"type\":\"LinearScale\"},{\"attributes\":{\"active_drag\":\"auto\",\"active_inspect\":\"auto\",\"active_multi\":null,\"active_scroll\":\"auto\",\"active_tap\":\"auto\",\"tools\":[{\"id\":\"7482\",\"type\":\"PanTool\"},{\"id\":\"7483\",\"type\":\"WheelZoomTool\"},{\"id\":\"7484\",\"type\":\"BoxZoomTool\"},{\"id\":\"7485\",\"type\":\"SaveTool\"},{\"id\":\"7486\",\"type\":\"ResetTool\"},{\"id\":\"7487\",\"type\":\"HelpTool\"}]},\"id\":\"7488\",\"type\":\"Toolbar\"},{\"attributes\":{\"above\":[{\"id\":\"7558\",\"type\":\"LinearAxis\"}],\"left\":[{\"id\":\"7563\",\"type\":\"LinearAxis\"}],\"plot_height\":500,\"plot_width\":200,\"renderers\":[{\"id\":\"7558\",\"type\":\"LinearAxis\"},{\"id\":\"7562\",\"type\":\"Grid\"},{\"id\":\"7563\",\"type\":\"LinearAxis\"},{\"id\":\"7567\",\"type\":\"Grid\"},{\"id\":\"7576\",\"type\":\"BoxAnnotation\"},{\"id\":\"7586\",\"type\":\"GlyphRenderer\"}],\"title\":{\"id\":\"7547\",\"type\":\"Title\"},\"toolbar\":{\"id\":\"7574\",\"type\":\"Toolbar\"},\"toolbar_location\":null,\"x_range\":{\"id\":\"7550\",\"type\":\"Range1d\"},\"x_scale\":{\"id\":\"7554\",\"type\":\"LinearScale\"},\"y_range\":{\"id\":\"7552\",\"type\":\"DataRange1d\"},\"y_scale\":{\"id\":\"7556\",\"type\":\"LinearScale\"}},\"id\":\"7548\",\"subtype\":\"Figure\",\"type\":\"Plot\"},{\"attributes\":{},\"id\":\"7482\",\"type\":\"PanTool\"},{\"attributes\":{},\"id\":\"7427\",\"type\":\"LinearScale\"},{\"attributes\":{\"plot\":null,\"text\":\"In\"},\"id\":\"7547\",\"type\":\"Title\"},{\"attributes\":{},\"id\":\"7483\",\"type\":\"WheelZoomTool\"},{\"attributes\":{},\"id\":\"7430\",\"type\":\"BasicTicker\"},{\"attributes\":{\"ticks\":[0]},\"id\":\"7545\",\"type\":\"FixedTicker\"},{\"attributes\":{\"overlay\":{\"id\":\"7490\",\"type\":\"BoxAnnotation\"}},\"id\":\"7484\",\"type\":\"BoxZoomTool\"},{\"attributes\":{},\"id\":\"7753\",\"type\":\"Selection\"},{\"attributes\":{},\"id\":\"7485\",\"type\":\"SaveTool\"},{\"attributes\":{\"callback\":null,\"end\":2.5,\"start\":-1.5},\"id\":\"7550\",\"type\":\"Range1d\"},{\"attributes\":{\"plot\":{\"id\":\"7419\",\"subtype\":\"Figure\",\"type\":\"Plot\"},\"ticker\":{\"id\":\"7430\",\"type\":\"BasicTicker\"}},\"id\":\"7433\",\"type\":\"Grid\"},{\"attributes\":{},\"id\":\"7486\",\"type\":\"ResetTool\"},{\"attributes\":{\"callback\":null},\"id\":\"7552\",\"type\":\"DataRange1d\"},{\"attributes\":{\"formatter\":{\"id\":\"7740\",\"type\":\"BasicTickFormatter\"},\"plot\":{\"id\":\"7419\",\"subtype\":\"Figure\",\"type\":\"Plot\"},\"ticker\":{\"id\":\"7435\",\"type\":\"BasicTicker\"},\"visible\":false},\"id\":\"7434\",\"type\":\"LinearAxis\"},{\"attributes\":{},\"id\":\"7487\",\"type\":\"HelpTool\"},{\"attributes\":{},\"id\":\"7554\",\"type\":\"LinearScale\"},{\"attributes\":{},\"id\":\"7435\",\"type\":\"BasicTicker\"},{\"attributes\":{},\"id\":\"7556\",\"type\":\"LinearScale\"},{\"attributes\":{\"dimension\":1,\"plot\":{\"id\":\"7419\",\"subtype\":\"Figure\",\"type\":\"Plot\"},\"ticker\":{\"id\":\"7435\",\"type\":\"BasicTicker\"}},\"id\":\"7438\",\"type\":\"Grid\"},{\"attributes\":{\"bottom_units\":\"screen\",\"fill_alpha\":{\"value\":0.5},\"fill_color\":{\"value\":\"lightgrey\"},\"left_units\":\"screen\",\"level\":\"overlay\",\"line_alpha\":{\"value\":1.0},\"line_color\":{\"value\":\"black\"},\"line_dash\":[4,4],\"line_width\":{\"value\":2},\"plot\":null,\"render_mode\":\"css\",\"right_units\":\"screen\",\"top_units\":\"screen\"},\"id\":\"7490\",\"type\":\"BoxAnnotation\"},{\"attributes\":{\"formatter\":{\"id\":\"7735\",\"type\":\"BasicTickFormatter\"},\"major_label_overrides\":{\"0\":\"X1\",\"1\":\"X2\"},\"plot\":{\"id\":\"7548\",\"subtype\":\"Figure\",\"type\":\"Plot\"},\"ticker\":{\"id\":\"7588\",\"type\":\"FixedTicker\"}},\"id\":\"7558\",\"type\":\"LinearAxis\"},{\"attributes\":{\"data_source\":{\"id\":\"7497\",\"type\":\"ColumnDataSource\"},\"glyph\":{\"id\":\"7498\",\"type\":\"Rect\"},\"hover_glyph\":null,\"muted_glyph\":null,\"nonselection_glyph\":{\"id\":\"7499\",\"type\":\"Rect\"},\"selection_glyph\":null,\"view\":{\"id\":\"7501\",\"type\":\"CDSView\"}},\"id\":\"7500\",\"type\":\"GlyphRenderer\"},{\"attributes\":{\"fill_color\":{\"field\":\"fill_color\"},\"height\":{\"field\":\"height\",\"units\":\"data\"},\"width\":{\"field\":\"width\",\"units\":\"data\"},\"x\":{\"field\":\"x\"},\"y\":{\"field\":\"y\"}},\"id\":\"7455\",\"type\":\"Rect\"},{\"attributes\":{},\"id\":\"7559\",\"type\":\"BasicTicker\"},{\"attributes\":{\"source\":{\"id\":\"7497\",\"type\":\"ColumnDataSource\"}},\"id\":\"7501\",\"type\":\"CDSView\"},{\"attributes\":{\"callback\":null,\"data\":{\"fill_color\":[\"white\",\"white\",\"white\",\"white\",\"white\",\"black\",\"black\",\"black\",\"black\",\"white\",\"white\",\"white\",\"white\",\"black\",\"black\",\"white\",\"black\",\"black\",\"white\",\"black\"],\"height\":[0.4666666666666667,0.47619047619047616,0.47619047619047616,0.47619047619047616,0.47619047619047616,0.4857142857142857,0.4857142857142857,0.4857142857142857,0.4857142857142857,0.47619047619047616,0.4666666666666667,0.47619047619047616,0.47619047619047616,0.49523809523809526,0.4857142857142857,0.47619047619047616,0.49523809523809526,0.49523809523809526,0.47619047619047616,0.4857142857142857],\"width\":[0.4666666666666667,0.47619047619047616,0.47619047619047616,0.47619047619047616,0.47619047619047616,0.4857142857142857,0.4857142857142857,0.4857142857142857,0.4857142857142857,0.47619047619047616,0.4666666666666667,0.47619047619047616,0.47619047619047616,0.49523809523809526,0.4857142857142857,0.47619047619047616,0.49523809523809526,0.49523809523809526,0.47619047619047616,0.4857142857142857],\"x\":[0,1,0,1,0,1,0,1,0,1,0,1,0,1,0,1,0,1,0,1],\"y\":[0,0,1,1,2,2,3,3,4,4,5,5,6,6,7,7,8,8,9,9]},\"selected\":{\"id\":\"7753\",\"type\":\"Selection\"},\"selection_policy\":{\"id\":\"7754\",\"type\":\"UnionRenderers\"}},\"id\":\"7497\",\"type\":\"ColumnDataSource\"},{\"attributes\":{\"plot\":{\"id\":\"7548\",\"subtype\":\"Figure\",\"type\":\"Plot\"},\"ticker\":{\"id\":\"7559\",\"type\":\"BasicTicker\"}},\"id\":\"7562\",\"type\":\"Grid\"},{\"attributes\":{\"plot\":null,\"text\":\"Out\"},\"id\":\"7504\",\"type\":\"Title\"},{\"attributes\":{},\"id\":\"7439\",\"type\":\"PanTool\"},{\"attributes\":{\"above\":[{\"id\":\"7515\",\"type\":\"LinearAxis\"}],\"left\":[{\"id\":\"7520\",\"type\":\"LinearAxis\"}],\"plot_height\":500,\"plot_width\":200,\"renderers\":[{\"id\":\"7515\",\"type\":\"LinearAxis\"},{\"id\":\"7519\",\"type\":\"Grid\"},{\"id\":\"7520\",\"type\":\"LinearAxis\"},{\"id\":\"7524\",\"type\":\"Grid\"},{\"id\":\"7533\",\"type\":\"BoxAnnotation\"},{\"id\":\"7543\",\"type\":\"GlyphRenderer\"}],\"title\":{\"id\":\"7504\",\"type\":\"Title\"},\"toolbar\":{\"id\":\"7531\",\"type\":\"Toolbar\"},\"toolbar_location\":null,\"x_range\":{\"id\":\"7507\",\"type\":\"Range1d\"},\"x_scale\":{\"id\":\"7511\",\"type\":\"LinearScale\"},\"y_range\":{\"id\":\"7509\",\"type\":\"DataRange1d\"},\"y_scale\":{\"id\":\"7513\",\"type\":\"LinearScale\"}},\"id\":\"7505\",\"subtype\":\"Figure\",\"type\":\"Plot\"},{\"attributes\":{\"formatter\":{\"id\":\"7737\",\"type\":\"BasicTickFormatter\"},\"plot\":{\"id\":\"7548\",\"subtype\":\"Figure\",\"type\":\"Plot\"},\"ticker\":{\"id\":\"7564\",\"type\":\"BasicTicker\"},\"visible\":false},\"id\":\"7563\",\"type\":\"LinearAxis\"},{\"attributes\":{},\"id\":\"7440\",\"type\":\"WheelZoomTool\"},{\"attributes\":{},\"id\":\"7564\",\"type\":\"BasicTicker\"},{\"attributes\":{\"callback\":null,\"data\":{\"fill_color\":[\"white\",\"white\",\"white\",\"white\",\"white\",\"white\",\"black\",\"white\",\"white\",\"black\"],\"height\":[0.0,0.0,0.0,0.0,0.0,0.0,0.47619047619047616,0.0,0.0,0.47619047619047616],\"width\":[0.0,0.0,0.0,0.0,0.0,0.0,0.47619047619047616,0.0,0.0,0.47619047619047616],\"x\":[0,0,0,0,0,0,0,0,0,0],\"y\":[0,1,2,3,4,5,6,7,8,9]},\"selected\":{\"id\":\"7756\",\"type\":\"Selection\"},\"selection_policy\":{\"id\":\"7757\",\"type\":\"UnionRenderers\"}},\"id\":\"7540\",\"type\":\"ColumnDataSource\"},{\"attributes\":{\"overlay\":{\"id\":\"7447\",\"type\":\"BoxAnnotation\"}},\"id\":\"7441\",\"type\":\"BoxZoomTool\"},{\"attributes\":{\"ticks\":[0,1]},\"id\":\"7502\",\"type\":\"FixedTicker\"},{\"attributes\":{\"dimension\":1,\"plot\":{\"id\":\"7548\",\"subtype\":\"Figure\",\"type\":\"Plot\"},\"ticker\":{\"id\":\"7564\",\"type\":\"BasicTicker\"}},\"id\":\"7567\",\"type\":\"Grid\"},{\"attributes\":{},\"id\":\"7442\",\"type\":\"SaveTool\"},{\"attributes\":{\"callback\":null,\"end\":2.5,\"start\":-1.5},\"id\":\"7507\",\"type\":\"Range1d\"},{\"attributes\":{\"fill_color\":{\"field\":\"fill_color\"},\"height\":{\"field\":\"height\",\"units\":\"data\"},\"width\":{\"field\":\"width\",\"units\":\"data\"},\"x\":{\"field\":\"x\"},\"y\":{\"field\":\"y\"}},\"id\":\"7584\",\"type\":\"Rect\"},{\"attributes\":{},\"id\":\"7443\",\"type\":\"ResetTool\"},{\"attributes\":{\"callback\":null},\"id\":\"7509\",\"type\":\"DataRange1d\"},{\"attributes\":{\"fill_alpha\":{\"value\":0.1},\"fill_color\":{\"value\":\"#1f77b4\"},\"height\":{\"field\":\"height\",\"units\":\"data\"},\"line_alpha\":{\"value\":0.1},\"line_color\":{\"value\":\"#1f77b4\"},\"width\":{\"field\":\"width\",\"units\":\"data\"},\"x\":{\"field\":\"x\"},\"y\":{\"field\":\"y\"}},\"id\":\"7585\",\"type\":\"Rect\"},{\"attributes\":{\"active_drag\":\"auto\",\"active_inspect\":\"auto\",\"active_multi\":null,\"active_scroll\":\"auto\",\"active_tap\":\"auto\",\"tools\":[{\"id\":\"7568\",\"type\":\"PanTool\"},{\"id\":\"7569\",\"type\":\"WheelZoomTool\"},{\"id\":\"7570\",\"type\":\"BoxZoomTool\"},{\"id\":\"7571\",\"type\":\"SaveTool\"},{\"id\":\"7572\",\"type\":\"ResetTool\"},{\"id\":\"7573\",\"type\":\"HelpTool\"}]},\"id\":\"7574\",\"type\":\"Toolbar\"},{\"attributes\":{},\"id\":\"7568\",\"type\":\"PanTool\"},{\"attributes\":{},\"id\":\"7569\",\"type\":\"WheelZoomTool\"},{\"attributes\":{\"overlay\":{\"id\":\"7576\",\"type\":\"BoxAnnotation\"}},\"id\":\"7570\",\"type\":\"BoxZoomTool\"},{\"attributes\":{},\"id\":\"7571\",\"type\":\"SaveTool\"},{\"attributes\":{},\"id\":\"7572\",\"type\":\"ResetTool\"},{\"attributes\":{},\"id\":\"7573\",\"type\":\"HelpTool\"},{\"attributes\":{\"bottom_units\":\"screen\",\"fill_alpha\":{\"value\":0.5},\"fill_color\":{\"value\":\"lightgrey\"},\"left_units\":\"screen\",\"level\":\"overlay\",\"line_alpha\":{\"value\":1.0},\"line_color\":{\"value\":\"black\"},\"line_dash\":[4,4],\"line_width\":{\"value\":2},\"plot\":null,\"render_mode\":\"css\",\"right_units\":\"screen\",\"top_units\":\"screen\"},\"id\":\"7576\",\"type\":\"BoxAnnotation\"},{\"attributes\":{\"data_source\":{\"id\":\"7583\",\"type\":\"ColumnDataSource\"},\"glyph\":{\"id\":\"7584\",\"type\":\"Rect\"},\"hover_glyph\":null,\"muted_glyph\":null,\"nonselection_glyph\":{\"id\":\"7585\",\"type\":\"Rect\"},\"selection_glyph\":null,\"view\":{\"id\":\"7587\",\"type\":\"CDSView\"}},\"id\":\"7586\",\"type\":\"GlyphRenderer\"},{\"attributes\":{\"source\":{\"id\":\"7583\",\"type\":\"ColumnDataSource\"}},\"id\":\"7587\",\"type\":\"CDSView\"},{\"attributes\":{},\"id\":\"7757\",\"type\":\"UnionRenderers\"},{\"attributes\":{\"ticks\":[0,1]},\"id\":\"7588\",\"type\":\"FixedTicker\"},{\"attributes\":{},\"id\":\"7746\",\"type\":\"BasicTickFormatter\"},{\"attributes\":{},\"id\":\"7741\",\"type\":\"BasicTickFormatter\"},{\"attributes\":{},\"id\":\"7750\",\"type\":\"Selection\"},{\"attributes\":{},\"id\":\"7744\",\"type\":\"BasicTickFormatter\"},{\"attributes\":{},\"id\":\"7743\",\"type\":\"BasicTickFormatter\"},{\"attributes\":{},\"id\":\"7737\",\"type\":\"BasicTickFormatter\"},{\"attributes\":{},\"id\":\"7747\",\"type\":\"Selection\"},{\"attributes\":{},\"id\":\"7751\",\"type\":\"UnionRenderers\"},{\"attributes\":{\"formatter\":{\"id\":\"7738\",\"type\":\"BasicTickFormatter\"},\"major_label_overrides\":{\"0\":\"X1\",\"1\":\"X2\"},\"plot\":{\"id\":\"7419\",\"subtype\":\"Figure\",\"type\":\"Plot\"},\"ticker\":{\"id\":\"7459\",\"type\":\"FixedTicker\"}},\"id\":\"7429\",\"type\":\"LinearAxis\"},{\"attributes\":{},\"id\":\"7748\",\"type\":\"UnionRenderers\"},{\"attributes\":{},\"id\":\"7735\",\"type\":\"BasicTickFormatter\"},{\"attributes\":{},\"id\":\"7740\",\"type\":\"BasicTickFormatter\"},{\"attributes\":{},\"id\":\"7738\",\"type\":\"BasicTickFormatter\"}],\"root_ids\":[\"8004\"]},\"title\":\"Bokeh Application\",\"version\":\"1.0.4\"}};\n",
       "  var render_items = [{\"docid\":\"db125403-e93a-4f40-b9b1-5881d04be406\",\"notebook_comms_target\":\"8201\",\"roots\":{\"8004\":\"c9d97447-aaae-46f0-b26f-542173780ba9\"}}];\n",
       "  root.Bokeh.embed.embed_items_notebook(docs_json, render_items);\n",
       "\n",
       "  }\n",
       "  if (root.Bokeh !== undefined) {\n",
       "    embed_document(root);\n",
       "  } else {\n",
       "    var attempts = 0;\n",
       "    var timer = setInterval(function(root) {\n",
       "      if (root.Bokeh !== undefined) {\n",
       "        embed_document(root);\n",
       "        clearInterval(timer);\n",
       "      }\n",
       "      attempts++;\n",
       "      if (attempts > 100) {\n",
       "        console.log(\"Bokeh: ERROR: Unable to run BokehJS code because BokehJS library is missing\");\n",
       "        clearInterval(timer);\n",
       "      }\n",
       "    }, 10, root)\n",
       "  }\n",
       "})(window);"
      ],
      "application/vnd.bokehjs_exec.v0+json": ""
     },
     "metadata": {
      "application/vnd.bokehjs_exec.v0+json": {
       "id": "8004"
      }
     },
     "output_type": "display_data"
    }
   ],
   "source": [
    "target = show(row(f4,f,f2,f3), notebook_handle=True)\n",
    "tsetlin       = np.random.choice([MIDSTATE, MIDSTATE+1], size=(num_clauses,num_features, len([LIT,NOT_LIT])))  \n",
    "iterations = 100\n",
    "def train_vis():\n",
    "    for i in range(iterations):\n",
    "        e = 0\n",
    "        out = []\n",
    "        for x_hat,y_hat in zip(X,Y):\n",
    "            clause_output = calc_all_clause_outputs(x_hat, tsetlin)\n",
    "            tot_c_outputs = np.sum([c_out*sign if live else 0 for (c_out,live),sign in zip(clause_output,clause_sign)])\n",
    "            out += [tot_c_outputs]\n",
    "            y_est = 1 if tot_c_outputs >= 0 else 0 #nte: total 0 = output 1\n",
    "            e += 1 if y_est != y_hat else 0\n",
    "            if np.random.random() < 0.1:\n",
    "                y_hat = 1 - y_hat\n",
    "            update(tot_c_outputs,y_hat,polarity,clause_output,x_hat,tsetlin,T=4)\n",
    "            uhinton(target,h4,50*np.repeat(np.array(x_hat).reshape(1,2),10,axis=0), 0.5)\n",
    "            uhinton(target,h,tsetlin[:,:,0],  MIDSTATE)\n",
    "            uhinton(target,h2,tsetlin[:,:,1], MIDSTATE)\n",
    "            actual_c,_ = zip(*clause_output)\n",
    "            uhinton(target,h3,50*np.array(actual_c).reshape(num_clauses,1), 0.5)\n",
    "            time.sleep(0.1)\n",
    "\n",
    "            #print(\"it\", i, e,out)\n",
    "    #print(np.transpose(tsetlin))    \n",
    "train_vis()    "
   ]
  },
  {
   "cell_type": "markdown",
   "metadata": {
    "slideshow": {
     "slide_type": "slide"
    }
   },
   "source": [
    "## Why are we interested in hardware Tsetlin?"
   ]
  },
  {
   "cell_type": "markdown",
   "metadata": {
    "slideshow": {
     "slide_type": "slide"
    }
   },
   "source": [
    "- Smallest available \"learning\" footprint\n",
    "    - Learning rules are lookup\n",
    "    - State is represented as  counters\n",
    "    - Inference is propositional logic\n",
    "    - Flexible, can be used for many styles of learning including \"deep\" setups"
   ]
  },
  {
   "cell_type": "markdown",
   "metadata": {
    "slideshow": {
     "slide_type": "slide"
    }
   },
   "source": [
    "- Explainable\n",
    "    - Inference is propositional logic so can be read directly\n",
    "    - Ensembles can be treated as probabilities"
   ]
  },
  {
   "cell_type": "markdown",
   "metadata": {
    "slideshow": {
     "slide_type": "slide"
    }
   },
   "source": [
    "- Controllable\n",
    "    - Hardware can be built to be power proportional\n",
    "        - Algorithm iterations/ensemble size are big driver\n",
    "    - Algorithm is simple so has discrete pause points"
   ]
  },
  {
   "cell_type": "markdown",
   "metadata": {
    "slideshow": {
     "slide_type": "slide"
    }
   },
   "source": [
    "- Maps well \"from hardware\"\n",
    "    - No FP\n",
    "    - ANDs/ADD are the major operations\n",
    "    - Async properties are nice"
   ]
  },
  {
   "cell_type": "markdown",
   "metadata": {
    "slideshow": {
     "slide_type": "slide"
    }
   },
   "source": [
    "![quick comparison](MLPTSET2.png)"
   ]
  },
  {
   "cell_type": "markdown",
   "metadata": {
    "slideshow": {
     "slide_type": "slide"
    }
   },
   "source": [
    "\n",
    "| Method        | Trees/Forest          | KNN           | Descriminant  | DL            | Tsetlin |\n",
    "| ------------- |:---------------------:|:-------------:|:-------------:|:-------------:|:-------:|\n",
    "| Representation| NODES/RULES           | DATA          | DATA          | WEIGHTS       | AUTOMATA |\n",
    "| Hardware      | GINI/entropy          | Distance calcs|               | Graphs/Macs   | Boolean/SUM |\n",
    "| Algorithm     | sequential entropy    | tree lookup   | projected     | bp grad       | game optimiser | \n",
    "| Flexibility   | Class/Reg             | Class/Reg     | Class         | Class/Reg/Gen/Re/Rec/Conv | AS DL |\n",
    "| Base Type     | F                     | F             | F             | F             | I/B     |\n",
    "| Explainabale  | Y                     | ish           | N             | N++           | Y        |\n",
    "| Power         | 4                     | 2             | 3             | 5             | 5       |\n",
    "| Issues...     | GINI                  | keep all data | inversion     | complexity/params | Discrete |\n",
    "\n"
   ]
  },
  {
   "cell_type": "markdown",
   "metadata": {
    "slideshow": {
     "slide_type": "slide"
    }
   },
   "source": [
    "- Downsides\n",
    "    - Some stochasticity...\n",
    "    - Some discreteness"
   ]
  },
  {
   "cell_type": "markdown",
   "metadata": {
    "slideshow": {
     "slide_type": "slide"
    }
   },
   "source": [
    "What we have:\n",
    "- Highly optimised algorithm\n",
    "- Several hardware design idea ranging from digital to ``temporal'' \n",
    "- Strong links with the originating researchers"
   ]
  },
  {
   "cell_type": "markdown",
   "metadata": {
    "slideshow": {
     "slide_type": "slide"
    }
   },
   "source": [
    "Proposed next steps:\n",
    "\n",
    "- Research\n",
    "    - Removed/reduced stochasticity\n",
    "    - Compressed ensembles\n",
    "    - Localising memory fetches (in memory) \n",
    "\n",
    "- Development\n",
    "    - Test design ideas on an initial problem\n",
    "        - we are flexible to what this might be!"
   ]
  }
 ],
 "metadata": {
  "celltoolbar": "Slideshow",
  "kernelspec": {
   "display_name": "Python 3",
   "language": "python",
   "name": "python3"
  },
  "language_info": {
   "codemirror_mode": {
    "name": "ipython",
    "version": 3
   },
   "file_extension": ".py",
   "mimetype": "text/x-python",
   "name": "python",
   "nbconvert_exporter": "python",
   "pygments_lexer": "ipython3",
   "version": "3.7.3"
  }
 },
 "nbformat": 4,
 "nbformat_minor": 2
}
